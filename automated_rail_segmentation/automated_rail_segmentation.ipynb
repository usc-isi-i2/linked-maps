{
 "cells": [
  {
   "cell_type": "code",
   "execution_count": 1,
   "metadata": {},
   "outputs": [],
   "source": [
    "import psycopg2\n",
    "from psycopg2.extensions import AsIs\n",
    "try:\n",
    "    conn =  psycopg2.connect(\"dbname=test_automated_segmentation user=postgres password = admin host=localhost\")\n",
    "except:\n",
    "    print (\"I am unable to connect to the database\") "
   ]
  },
  {
   "cell_type": "code",
   "execution_count": 2,
   "metadata": {},
   "outputs": [],
   "source": [
    "'''\n",
    "Given name of source table, union all rows in the source table,\n",
    "create the new table and insert the union result into the \n",
    "first line of new table\n",
    "'''\n",
    "def create_new_map_table(conn,source_name, table_name):\n",
    "    cur = conn.cursor()\n",
    "    SQL_CREATE = '''\n",
    "    DROP TABLE IF EXISTS %s;\n",
    "    CREATE TABLE %s (\n",
    "        gid SERIAL, \n",
    "        name VARCHAR(80),\n",
    "        geom GEOMETRY,\n",
    "        isLeaf BOOL,\n",
    "        PRIMARY KEY (gid)\n",
    "        \n",
    "    );\n",
    "    \n",
    "    INSERT INTO %s (geom, isLeaf) VALUES (\n",
    "        (SELECT ST_UNION(geom) AS geom FROM %s),\n",
    "        TRUE);\n",
    "    '''\n",
    "    cur.execute(SQL_CREATE,(AsIs(table_name),AsIs(table_name),AsIs(table_name),AsIs(source_name)))\n",
    "    conn.commit()"
   ]
  },
  {
   "cell_type": "code",
   "execution_count": 3,
   "metadata": {},
   "outputs": [],
   "source": [
    "# create_new_map_table(conn,'la','a')\n",
    "# create_new_map_table(conn,'ca','b')"
   ]
  },
  {
   "cell_type": "code",
   "execution_count": 4,
   "metadata": {},
   "outputs": [],
   "source": [
    "def intersection(conn, existing_table, new_table):\n",
    "    cur = conn.cursor()\n",
    "    SQL_INTERSEC = '''\n",
    "        INSERT INTO %s (geom) \n",
    "        SELECT ST_INTERSECTION(\n",
    "            exist.geom, \n",
    "            ST_INTERSECTION(\n",
    "                st_buffer(exist.geom, 0.0015), \n",
    "                st_buffer(new.geom, 0.0015)\n",
    "            )\n",
    "        )\n",
    "        FROM %s exist, %s new\n",
    "        WHERE exist.isLeaf = TRUE AND new.gid = 1;\n",
    "    \n",
    "    \n",
    "    '''\n",
    "    cur.execute(SQL_INTERSEC,(AsIs(existing_table),AsIs(existing_table),AsIs(new_table)))\n",
    "    conn.commit()    "
   ]
  },
  {
   "cell_type": "code",
   "execution_count": 5,
   "metadata": {},
   "outputs": [],
   "source": [
    "def difference(conn, existing_table, new_table):\n",
    "    cur = conn.cursor()\n",
    "    SQL_INTERSEC = '''\n",
    "        INSERT INTO %s (geom)  \n",
    "        SELECT ST_INTERSECTION(\n",
    "            exist.geom, \n",
    "            ST_DIFFERENCE(\n",
    "                st_buffer(exist.geom, 0.0015), \n",
    "                st_buffer(new.geom, 0.0015)\n",
    "            )\n",
    "        )\n",
    "        FROM %s exist, %s new\n",
    "        WHERE exist.isLeaf = TRUE AND new.gid = 1;\n",
    "    \n",
    "    \n",
    "    '''\n",
    "    cur.execute(SQL_INTERSEC,(AsIs(existing_table),AsIs(existing_table),AsIs(new_table)))\n",
    "    conn.commit()    "
   ]
  },
  {
   "cell_type": "code",
   "execution_count": 6,
   "metadata": {},
   "outputs": [],
   "source": [
    "def getNumRows(conn,table_name):\n",
    "    cur = conn.cursor()\n",
    "    SQL_NUMROW = '''\n",
    "    SELECT COUNT(gid) \n",
    "    FROM %s\n",
    "    '''\n",
    "    cur.execute(SQL_NUMROW,(AsIs(table_name),))\n",
    "    return cur.fetchone()[0]"
   ]
  },
  {
   "cell_type": "code",
   "execution_count": 7,
   "metadata": {},
   "outputs": [],
   "source": [
    "def updateLeaves(conn, table_name, start, end):\n",
    "    cur = conn.cursor()\n",
    "    SQL_UPDATE_LEAVE = '''\n",
    "    UPDATE %s \n",
    "    SET isLeaf = FALSE\n",
    "    WHERE gid >= %s AND gid <= %s;\n",
    "    UPDATE %s \n",
    "    SET isLeaf = TRUE\n",
    "    WHERE gid > %s;\n",
    "    '''\n",
    "    cur.execute(SQL_UPDATE_LEAVE,(AsIs(table_name),start,end,AsIs(table_name),end))\n",
    "    conn.commit()     "
   ]
  },
  {
   "cell_type": "code",
   "execution_count": 8,
   "metadata": {},
   "outputs": [],
   "source": [
    "def segment_existing(conn,existing_table,new_table):\n",
    "    curr_row = getNumRows(conn,existing_table)\n",
    "    intersection(conn, existing_table, new_table)\n",
    "    difference(conn, existing_table, new_table)\n",
    "    updateLeaves(conn, existing_table, 1, curr_row)"
   ]
  },
  {
   "cell_type": "code",
   "execution_count": 9,
   "metadata": {},
   "outputs": [],
   "source": [
    "create_new_map_table(conn,'la', 'a')\n",
    "create_new_map_table(conn,'ca', 'b')\n",
    "segment_existing(conn,'a','b')\n",
    "create_new_map_table(conn,'usa', 'c')\n",
    "segment_existing(conn,'a','c')"
   ]
  },
  {
   "cell_type": "code",
   "execution_count": null,
   "metadata": {},
   "outputs": [],
   "source": []
  },
  {
   "cell_type": "code",
   "execution_count": null,
   "metadata": {},
   "outputs": [],
   "source": []
  },
  {
   "cell_type": "code",
   "execution_count": null,
   "metadata": {},
   "outputs": [],
   "source": []
  },
  {
   "cell_type": "code",
   "execution_count": null,
   "metadata": {},
   "outputs": [],
   "source": []
  }
 ],
 "metadata": {
  "kernelspec": {
   "display_name": "Python 3",
   "language": "python",
   "name": "python3"
  },
  "language_info": {
   "codemirror_mode": {
    "name": "ipython",
    "version": 3
   },
   "file_extension": ".py",
   "mimetype": "text/x-python",
   "name": "python",
   "nbconvert_exporter": "python",
   "pygments_lexer": "ipython3",
   "version": "3.6.4"
  }
 },
 "nbformat": 4,
 "nbformat_minor": 2
}
