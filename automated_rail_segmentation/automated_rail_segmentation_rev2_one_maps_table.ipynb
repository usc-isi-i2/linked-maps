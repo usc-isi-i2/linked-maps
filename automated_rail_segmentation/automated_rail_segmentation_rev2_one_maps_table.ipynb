{
 "cells": [
  {
   "cell_type": "code",
   "execution_count": 1,
   "metadata": {},
   "outputs": [],
   "source": [
    "import psycopg2\n",
    "from psycopg2.extras import execute_values\n",
    "from psycopg2.extensions import AsIs\n",
    "try:\n",
    "    conn =  psycopg2.connect(\"dbname=test_automated_segmentation user=postgres password = admin host=localhost\")\n",
    "except:\n",
    "    print (\"I am unable to connect to the database\") \n",
    "    \n",
    "DROP_ALL='''\n",
    "drop table if exists maps,sameas\n",
    "'''\n",
    "cur = conn.cursor()\n",
    "cur.execute(DROP_ALL, ())\n",
    "conn.commit()"
   ]
  },
  {
   "cell_type": "markdown",
   "metadata": {},
   "source": [
    "# maps\n",
    "| gid(PK)  |  line_name    | isLeaf| geom |\n",
    "|----------|:-------------:|------:|------:\n",
    "| 1        |  A            |F      |geom  |\n",
    "| 2        |  B            |  F    |geom  |\n",
    "| 3        | ....          |   ... | ...  |\n",
    "\n",
    "\n",
    "# sameas\n",
    "| gid(FK)  | gid2(FK)   | \n",
    "|----------|:----------:|\n",
    "|3         |  4         |\n",
    "| ...      | ....       | "
   ]
  },
  {
   "cell_type": "code",
   "execution_count": 2,
   "metadata": {},
   "outputs": [],
   "source": [
    "CREATE_TABLE = '''\n",
    "DROP TABLE IF EXISTS maps;\n",
    "create table maps (\n",
    "\tgid SERIAL NOT NULL PRIMARY KEY, \n",
    "\tline_name  VARCHAR(256),\n",
    "\tisLeaf BOOL\n",
    ");\n",
    "select AddGeometryColumn('maps', 'geom', 4269, 'MULTILINESTRING', 2);\n",
    "'''\n",
    "\n",
    "cur = conn.cursor()\n",
    "cur.execute(CREATE_TABLE, ())\n",
    "\n",
    "CREATE_SAMEAS_TABLE = '''\n",
    "DROP TABLE IF EXISTS sameas;\n",
    "CREATE TABLE sameas (\n",
    "  gid1 INTEGER REFERENCES maps(gid),\n",
    "  gid2 INTEGER REFERENCES maps(gid)\n",
    ");\n",
    "\n",
    "'''\n",
    "cur = conn.cursor()\n",
    "cur.execute(CREATE_SAMEAS_TABLE, ())\n",
    "conn.commit()"
   ]
  },
  {
   "cell_type": "markdown",
   "metadata": {},
   "source": [
    "# insert map a (la)"
   ]
  },
  {
   "cell_type": "code",
   "execution_count": 3,
   "metadata": {},
   "outputs": [],
   "source": [
    "INSERT_NEW_MAP = '''\n",
    "\n",
    "INSERT INTO maps (geom, line_name, isLeaf) VALUES (\n",
    "    (SELECT ST_UNION(geom) AS geom FROM %s),\n",
    "    %s,\n",
    "    TRUE);\n",
    "\n",
    "'''\n",
    "\n",
    "cur = conn.cursor()\n",
    "cur.execute(INSERT_NEW_MAP,(AsIs(\"la\"),\"A\"))\n",
    "conn.commit()"
   ]
  },
  {
   "cell_type": "markdown",
   "metadata": {},
   "source": [
    "# insert map b (ca)"
   ]
  },
  {
   "cell_type": "code",
   "execution_count": 4,
   "metadata": {},
   "outputs": [],
   "source": [
    "INSERT_NEW_MAP = '''\n",
    "\n",
    "INSERT INTO maps (geom, line_name, isLeaf) VALUES (\n",
    "    (SELECT ST_UNION(geom) AS geom FROM %s),\n",
    "    %s,\n",
    "    TRUE);\n",
    "\n",
    "'''\n",
    "\n",
    "cur = conn.cursor()\n",
    "cur.execute(INSERT_NEW_MAP,(AsIs(\"ca\"),\"B\"))\n",
    "conn.commit()"
   ]
  },
  {
   "cell_type": "markdown",
   "metadata": {},
   "source": [
    "# Add A that has B"
   ]
  },
  {
   "cell_type": "code",
   "execution_count": 5,
   "metadata": {},
   "outputs": [],
   "source": [
    "newrol = 2\n",
    "SQL_INTERSEC = '''\n",
    "    INSERT INTO maps (geom, line_name) \n",
    "    SELECT ST_INTERSECTION(\n",
    "        exist.geom, \n",
    "        ST_INTERSECTION(\n",
    "            st_buffer(exist.geom, 0.0015), \n",
    "            st_buffer(new.geom, 0.0015)\n",
    "        )\n",
    "    ), exist.line_name\n",
    "    FROM maps exist, maps new\n",
    "    WHERE exist.isLeaf = TRUE AND\n",
    "    exist.gid < %s AND\n",
    "    new.gid = %s;\n",
    "        \n",
    "'''\n",
    "cur = conn.cursor()\n",
    "cur.execute(SQL_INTERSEC,(newrol,newrol))\n",
    "conn.commit()"
   ]
  },
  {
   "cell_type": "markdown",
   "metadata": {},
   "source": [
    "# Add b that has a"
   ]
  },
  {
   "cell_type": "code",
   "execution_count": 6,
   "metadata": {},
   "outputs": [],
   "source": [
    "newrol = 2\n",
    "SQL_INTERSEC_NEW = '''\n",
    "    INSERT INTO maps (geom,line_name) \n",
    "    SELECT ST_INTERSECTION(\n",
    "        new.geom, \n",
    "        ST_INTERSECTION(\n",
    "            st_buffer(exist.geom, 0.0015), \n",
    "            st_buffer(new.geom, 0.0015)\n",
    "        )\n",
    "    ), new.line_name\n",
    "    FROM maps exist, maps new\n",
    "    WHERE exist.isLeaf = TRUE AND\n",
    "    exist.gid < %s AND\n",
    "    new.gid = %s;\n",
    "        \n",
    "'''\n",
    "cur = conn.cursor()\n",
    "cur.execute(SQL_INTERSEC_NEW,(newrol,newrol))\n",
    "conn.commit()"
   ]
  },
  {
   "cell_type": "markdown",
   "metadata": {},
   "source": [
    "# Add sameas relation (A that has B and B that has A)"
   ]
  },
  {
   "cell_type": "code",
   "execution_count": 7,
   "metadata": {},
   "outputs": [],
   "source": [
    "\n",
    "start = 3\n",
    "end = 5\n",
    "\n",
    "INSERT_SAMEAS = \"\"\"\n",
    "INSERT INTO sameas (gid1,gid2)\n",
    "VALUES %s\n",
    "\"\"\"\n",
    "values_list = []\n",
    "for i in range(start,(end-start)//2 + start):\n",
    "    values_list.append((i,(end-start)//2 + i))\n",
    "cur = conn.cursor()\n",
    "execute_values(cur, INSERT_SAMEAS, values_list)\n",
    "conn.commit()"
   ]
  },
  {
   "cell_type": "markdown",
   "metadata": {},
   "source": [
    "# Add a not b"
   ]
  },
  {
   "cell_type": "code",
   "execution_count": 8,
   "metadata": {},
   "outputs": [],
   "source": [
    "SQL_DIFF = '''\n",
    "    INSERT INTO maps (geom,line_name) \n",
    "    SELECT ST_INTERSECTION(\n",
    "        exist.geom, \n",
    "        ST_DIFFERENCE(\n",
    "            st_buffer(exist.geom, 0.0015), \n",
    "            st_buffer(new.geom, 0.0015)\n",
    "        )\n",
    "    ),exist.line_name\n",
    "    FROM maps exist, maps new\n",
    "    WHERE exist.isLeaf = TRUE AND\n",
    "    exist.gid < %s AND\n",
    "    new.gid = %s;\n",
    "        \n",
    "'''\n",
    "cur = conn.cursor()\n",
    "cur.execute(SQL_DIFF,(newrol,newrol))\n",
    "conn.commit()"
   ]
  },
  {
   "cell_type": "markdown",
   "metadata": {},
   "source": [
    "# Add B not a"
   ]
  },
  {
   "cell_type": "code",
   "execution_count": 9,
   "metadata": {},
   "outputs": [],
   "source": [
    "SQL_DIFF_NEW = '''\n",
    "    INSERT INTO maps (geom,line_name) \n",
    "    SELECT ST_INTERSECTION(\n",
    "        new.geom, \n",
    "        ST_DIFFERENCE(\n",
    "            st_buffer(new.geom, 0.0015), \n",
    "            st_buffer(exist.geom, 0.0015)\n",
    "        )\n",
    "    ),new.line_name\n",
    "    FROM maps exist, maps new\n",
    "    WHERE exist.isLeaf = TRUE AND\n",
    "    exist.gid <%s AND\n",
    "    new.gid = %s;\n",
    "        \n",
    "'''\n",
    "cur = conn.cursor()\n",
    "cur.execute(SQL_DIFF_NEW,(newrol,newrol))\n",
    "conn.commit()"
   ]
  },
  {
   "cell_type": "markdown",
   "metadata": {},
   "source": [
    "# update leave node"
   ]
  },
  {
   "cell_type": "code",
   "execution_count": 10,
   "metadata": {},
   "outputs": [],
   "source": [
    "SQL_UPDATE_LEAVE = '''\n",
    "UPDATE maps \n",
    "SET isLeaf = FALSE\n",
    "WHERE gid <= %s;\n",
    "UPDATE maps\n",
    "SET isLeaf = TRUE\n",
    "WHERE gid > %s;\n",
    "\n",
    "'''\n",
    "cur = conn.cursor()\n",
    "cur.execute(SQL_UPDATE_LEAVE,(newrol,newrol))\n",
    "conn.commit()     "
   ]
  },
  {
   "cell_type": "markdown",
   "metadata": {},
   "source": [
    "# Now map c comes\n"
   ]
  },
  {
   "cell_type": "code",
   "execution_count": 11,
   "metadata": {},
   "outputs": [],
   "source": [
    "INSERT_NEW_MAP = '''\n",
    "\n",
    "INSERT INTO maps (geom, line_name, isLeaf) VALUES (\n",
    "    (SELECT ST_UNION(geom) AS geom FROM %s),\n",
    "    %s,\n",
    "    TRUE);\n",
    "\n",
    "'''\n",
    "\n",
    "cur = conn.cursor()\n",
    "cur.execute(INSERT_NEW_MAP,(AsIs(\"usa\"),\"C\"))\n",
    "conn.commit()"
   ]
  },
  {
   "cell_type": "markdown",
   "metadata": {},
   "source": [
    "# figure out the current maps -> should resulted in A and B"
   ]
  },
  {
   "cell_type": "code",
   "execution_count": 12,
   "metadata": {},
   "outputs": [],
   "source": [
    "def get_existing_map():\n",
    "    EXISTING_MAP = '''\n",
    "    SELECT line_name\n",
    "    FROM maps\n",
    "    where isLeaf = false\n",
    "    '''\n",
    "\n",
    "    cur = conn.cursor()\n",
    "    cur.execute(EXISTING_MAP,(AsIs(\"usa\"),\"C\"))\n",
    "    res = cur.fetchall()\n",
    "    ret = [e[0] for e in res]\n",
    "    return ret\n",
    "\n",
    "existing_map = get_existing_map()"
   ]
  },
  {
   "cell_type": "markdown",
   "metadata": {},
   "source": [
    "# add existing map (A B) has C"
   ]
  },
  {
   "cell_type": "code",
   "execution_count": 13,
   "metadata": {},
   "outputs": [],
   "source": [
    "newrol = 7\n",
    "\n",
    "cur = conn.cursor()\n",
    "cur.execute(SQL_INTERSEC,(newrol,newrol))\n",
    "conn.commit()"
   ]
  },
  {
   "cell_type": "markdown",
   "metadata": {},
   "source": [
    "# add c has existing map (A B)"
   ]
  },
  {
   "cell_type": "code",
   "execution_count": 14,
   "metadata": {},
   "outputs": [],
   "source": [
    "\n",
    "cur = conn.cursor()\n",
    "cur.execute(SQL_INTERSEC_NEW,(newrol,newrol))\n",
    "conn.commit()"
   ]
  },
  {
   "cell_type": "markdown",
   "metadata": {},
   "source": [
    "# Add sameas relation (A that has B and B that has A)"
   ]
  },
  {
   "cell_type": "code",
   "execution_count": 15,
   "metadata": {},
   "outputs": [],
   "source": [
    "start = 8\n",
    "end = 16\n",
    "\n",
    "values_list = []\n",
    "for i in range(start,(end-start)//2 + start):\n",
    "    values_list.append((i,(end-start)//2 + i))\n",
    "cur = conn.cursor()\n",
    "execute_values(cur, INSERT_SAMEAS, values_list)\n",
    "conn.commit()"
   ]
  },
  {
   "cell_type": "markdown",
   "metadata": {},
   "source": [
    "# Add existing (A B) not c"
   ]
  },
  {
   "cell_type": "code",
   "execution_count": 16,
   "metadata": {},
   "outputs": [],
   "source": [
    "\n",
    "cur = conn.cursor()\n",
    "cur.execute(SQL_DIFF,(newrol,newrol))\n",
    "conn.commit()"
   ]
  },
  {
   "cell_type": "markdown",
   "metadata": {},
   "source": [
    "# Add c not in existingb (A,B)"
   ]
  },
  {
   "cell_type": "code",
   "execution_count": 17,
   "metadata": {},
   "outputs": [],
   "source": [
    "\n",
    "cur = conn.cursor()\n",
    "cur.execute(SQL_DIFF_NEW,(newrol,newrol))\n",
    "conn.commit()"
   ]
  },
  {
   "cell_type": "code",
   "execution_count": null,
   "metadata": {},
   "outputs": [],
   "source": []
  }
 ],
 "metadata": {
  "kernelspec": {
   "display_name": "Python 3",
   "language": "python",
   "name": "python3"
  },
  "language_info": {
   "codemirror_mode": {
    "name": "ipython",
    "version": 3
   },
   "file_extension": ".py",
   "mimetype": "text/x-python",
   "name": "python",
   "nbconvert_exporter": "python",
   "pygments_lexer": "ipython3",
   "version": "3.6.4"
  }
 },
 "nbformat": 4,
 "nbformat_minor": 2
}
